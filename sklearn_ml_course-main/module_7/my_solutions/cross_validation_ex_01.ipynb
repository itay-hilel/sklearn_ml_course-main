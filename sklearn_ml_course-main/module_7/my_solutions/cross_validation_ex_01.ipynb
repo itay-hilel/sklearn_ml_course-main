{
 "cells": [
  {
   "cell_type": "code",
   "execution_count": 1,
   "id": "008d6189",
   "metadata": {
    "lines_to_next_cell": 0
   },
   "outputs": [],
   "source": [
    "# -*- coding: utf-8 -*-"
   ]
  },
  {
   "cell_type": "markdown",
   "id": "b38c189e",
   "metadata": {},
   "source": [
    "# 📝 Exercise M7.01\n",
    "\n",
    "In this exercise we will define dummy classification baselines and use them\n",
    "as reference to assess the relative predictive performance of a given model\n",
    "of interest.\n",
    "\n",
    "We illustrate those baselines with the help of the Adult Census dataset,\n",
    "using only the numerical features for the sake of simplicity."
   ]
  },
  {
   "cell_type": "code",
   "execution_count": 2,
   "id": "d33b4983",
   "metadata": {},
   "outputs": [],
   "source": [
    "import pandas as pd\n",
    "\n",
    "adult_census = pd.read_csv(\"../datasets/adult-census-numeric-all.csv\")\n",
    "data, target = adult_census.drop(columns=\"class\"), adult_census[\"class\"]"
   ]
  },
  {
   "cell_type": "markdown",
   "id": "2280e2a8",
   "metadata": {},
   "source": [
    "First, define a `ShuffleSplit` cross-validation strategy taking half of the\n",
    "samples as a testing at each round. Let us use 10 cross-validation rounds."
   ]
  },
  {
   "cell_type": "code",
   "execution_count": 3,
   "id": "90eefd77",
   "metadata": {},
   "outputs": [],
   "source": [
    "# Write your code here.\n",
    "from sklearn.model_selection import ShuffleSplit\n",
    "\n",
    "cv = ShuffleSplit(n_splits=10, test_size=0.5, random_state=0)"
   ]
  },
  {
   "cell_type": "markdown",
   "id": "d1b8cbe7",
   "metadata": {},
   "source": [
    "Next, create a machine learning pipeline composed of a transformer to\n",
    "standardize the data followed by a logistic regression classifier."
   ]
  },
  {
   "cell_type": "code",
   "execution_count": 4,
   "id": "13fb1bb3",
   "metadata": {},
   "outputs": [],
   "source": [
    "# Write your code here.\n",
    "from sklearn.preprocessing import StandardScaler\n",
    "from sklearn.pipeline import make_pipeline\n",
    "from sklearn.linear_model import LogisticRegression\n",
    "\n",
    "model = make_pipeline(StandardScaler(), LogisticRegression())"
   ]
  },
  {
   "cell_type": "markdown",
   "id": "e97bd64d",
   "metadata": {},
   "source": [
    "Compute the cross-validation (test) scores for the classifier on this\n",
    "dataset. Store the results pandas Series as we did in the previous notebook."
   ]
  },
  {
   "cell_type": "code",
   "execution_count": 5,
   "id": "e6b9db99",
   "metadata": {},
   "outputs": [
    {
     "data": {
      "text/plain": [
       "count    10.000000\n",
       "mean      0.813832\n",
       "std       0.002085\n",
       "min       0.810327\n",
       "25%       0.812590\n",
       "50%       0.814279\n",
       "75%       0.815435\n",
       "max       0.816388\n",
       "Name: logreg, dtype: float64"
      ]
     },
     "execution_count": 5,
     "metadata": {},
     "output_type": "execute_result"
    }
   ],
   "source": [
    "# Write your code here.\n",
    "from sklearn.model_selection import cross_validate\n",
    "\n",
    "logreg_results = cross_validate(model, data, target,\n",
    "                                cv=cv, n_jobs=2)\n",
    "\n",
    "test_score_logreg = pd.Series(\n",
    "     logreg_results['test_score'], name='logreg')\n",
    "\n",
    "test_score_logreg.describe()"
   ]
  },
  {
   "cell_type": "markdown",
   "id": "0d204191",
   "metadata": {},
   "source": [
    "Now, compute the cross-validation scores of a dummy classifier that\n",
    "constantly predicts the most frequent class observed the training set. Please\n",
    "refer to the online documentation for the [sklearn.dummy.DummyClassifier\n",
    "](https://scikit-learn.org/stable/modules/generated/sklearn.dummy.DummyClassifier.html)\n",
    "class.\n",
    "\n",
    "Store the results in a second pandas Series."
   ]
  },
  {
   "cell_type": "code",
   "execution_count": 6,
   "id": "db89cd26",
   "metadata": {},
   "outputs": [
    {
     "data": {
      "text/plain": [
       "count    10.000000\n",
       "mean      0.760022\n",
       "std       0.002251\n",
       "min       0.756808\n",
       "25%       0.757883\n",
       "50%       0.760534\n",
       "75%       0.761834\n",
       "max       0.763114\n",
       "Name: dummy, dtype: float64"
      ]
     },
     "execution_count": 6,
     "metadata": {},
     "output_type": "execute_result"
    }
   ],
   "source": [
    "# Write your code here.\n",
    "from sklearn.dummy import DummyClassifier\n",
    "\n",
    "dummy_model = DummyClassifier(strategy='most_frequent')\n",
    "\n",
    "dummy_results = cross_validate(dummy_model, data, target,\n",
    "                               cv=cv, n_jobs=2)\n",
    "\n",
    "test_score_dummy = pd.Series(\n",
    "    dummy_results['test_score'], name='dummy')\n",
    "\n",
    "test_score_dummy.describe()"
   ]
  },
  {
   "cell_type": "markdown",
   "id": "62c34ad8",
   "metadata": {},
   "source": [
    "Now that we collected the results from the baseline and the model,\n",
    "concatenate the test scores as columns a single pandas dataframe."
   ]
  },
  {
   "cell_type": "code",
   "execution_count": 7,
   "id": "2e41c09d",
   "metadata": {},
   "outputs": [
    {
     "data": {
      "text/html": [
       "<div>\n",
       "<style scoped>\n",
       "    .dataframe tbody tr th:only-of-type {\n",
       "        vertical-align: middle;\n",
       "    }\n",
       "\n",
       "    .dataframe tbody tr th {\n",
       "        vertical-align: top;\n",
       "    }\n",
       "\n",
       "    .dataframe thead th {\n",
       "        text-align: right;\n",
       "    }\n",
       "</style>\n",
       "<table border=\"1\" class=\"dataframe\">\n",
       "  <thead>\n",
       "    <tr style=\"text-align: right;\">\n",
       "      <th></th>\n",
       "      <th>logreg</th>\n",
       "      <th>dummy</th>\n",
       "    </tr>\n",
       "  </thead>\n",
       "  <tbody>\n",
       "    <tr>\n",
       "      <th>0</th>\n",
       "      <td>0.815937</td>\n",
       "      <td>0.760329</td>\n",
       "    </tr>\n",
       "    <tr>\n",
       "      <th>1</th>\n",
       "      <td>0.813849</td>\n",
       "      <td>0.756808</td>\n",
       "    </tr>\n",
       "    <tr>\n",
       "      <th>2</th>\n",
       "      <td>0.815036</td>\n",
       "      <td>0.759142</td>\n",
       "    </tr>\n",
       "    <tr>\n",
       "      <th>3</th>\n",
       "      <td>0.815569</td>\n",
       "      <td>0.760739</td>\n",
       "    </tr>\n",
       "    <tr>\n",
       "      <th>4</th>\n",
       "      <td>0.810982</td>\n",
       "      <td>0.761681</td>\n",
       "    </tr>\n",
       "    <tr>\n",
       "      <th>5</th>\n",
       "      <td>0.814709</td>\n",
       "      <td>0.761885</td>\n",
       "    </tr>\n",
       "    <tr>\n",
       "      <th>6</th>\n",
       "      <td>0.813112</td>\n",
       "      <td>0.757463</td>\n",
       "    </tr>\n",
       "    <tr>\n",
       "      <th>7</th>\n",
       "      <td>0.810327</td>\n",
       "      <td>0.757176</td>\n",
       "    </tr>\n",
       "    <tr>\n",
       "      <th>8</th>\n",
       "      <td>0.812416</td>\n",
       "      <td>0.761885</td>\n",
       "    </tr>\n",
       "    <tr>\n",
       "      <th>9</th>\n",
       "      <td>0.816388</td>\n",
       "      <td>0.763114</td>\n",
       "    </tr>\n",
       "  </tbody>\n",
       "</table>\n",
       "</div>"
      ],
      "text/plain": [
       "     logreg     dummy\n",
       "0  0.815937  0.760329\n",
       "1  0.813849  0.756808\n",
       "2  0.815036  0.759142\n",
       "3  0.815569  0.760739\n",
       "4  0.810982  0.761681\n",
       "5  0.814709  0.761885\n",
       "6  0.813112  0.757463\n",
       "7  0.810327  0.757176\n",
       "8  0.812416  0.761885\n",
       "9  0.816388  0.763114"
      ]
     },
     "execution_count": 7,
     "metadata": {},
     "output_type": "execute_result"
    }
   ],
   "source": [
    "# Write your code here.\n",
    "all_test_scores = pd.concat([test_score_logreg, test_score_dummy],\n",
    "                            axis='columns')\n",
    "\n",
    "all_test_scores"
   ]
  },
  {
   "cell_type": "markdown",
   "id": "9e676949",
   "metadata": {},
   "source": [
    "\n",
    "Next, plot the histogram of the cross-validation test scores for both\n",
    "models with the help of [pandas built-in plotting\n",
    "function](https://pandas.pydata.org/pandas-docs/stable/user_guide/visualization.html#histograms).\n",
    "\n",
    "What conclusions do you draw from the results?"
   ]
  },
  {
   "cell_type": "code",
   "execution_count": 8,
   "id": "bac4d34a",
   "metadata": {},
   "outputs": [
    {
     "data": {
      "image/png": "[encoded data removed]",
      "text/plain": [
       "<Figure size 432x288 with 1 Axes>"
      ]
     },
     "metadata": {
      "needs_background": "light"
     },
     "output_type": "display_data"
    }
   ],
   "source": [
    "# Write your code here.\n",
    "import numpy as np\n",
    "import matplotlib.pyplot as plt\n",
    "\n",
    "bins = np.linspace(start=0.5, stop=1, num=100)\n",
    "\n",
    "all_test_scores.plot.hist(bins=bins, edgecolor='black')\n",
    "plt.legend(bbox_to_anchor=(1.05, 0.8), loc='upper left')\n",
    "plt.xlabel('Accuracy %')\n",
    "plt.title('Distribution of the CV scores');"
   ]
  },
  {
   "cell_type": "markdown",
   "id": "fbaca614",
   "metadata": {},
   "source": [
    "We observe that the two histograms are well separated. Therefore the dummy classifier with the strategy most_frequent has a much lower accuracy than the logistic regression classifier. We conclude that the logistic regression model can successfully find predictive information in the input features to improve upon the baseline."
   ]
  },
  {
   "cell_type": "markdown",
   "id": "c14f9978",
   "metadata": {},
   "source": [
    "Change the `strategy` of the dummy classifier to `\"stratified\"`, compute the\n",
    "results. Similarly compute scores for `strategy=\"uniform\"` and then the  plot\n",
    "the distribution together with the other results.\n",
    "\n",
    "Are those new baselines better than the previous one? Why is this the case?\n",
    "\n",
    "Please refer to the scikit-learn documentation on\n",
    "[sklearn.dummy.DummyClassifier](\n",
    "https://scikit-learn.org/stable/modules/generated/sklearn.dummy.DummyClassifier.html)\n",
    "to find out about the meaning of the `\"stratified\"` and `\"uniform\"`\n",
    "strategies."
   ]
  },
  {
   "cell_type": "code",
   "execution_count": 9,
   "id": "3b21f357",
   "metadata": {},
   "outputs": [
    {
     "data": {
      "text/plain": [
       "count    10.000000\n",
       "mean      0.636424\n",
       "std       0.001980\n",
       "min       0.632857\n",
       "25%       0.635621\n",
       "50%       0.637136\n",
       "75%       0.637351\n",
       "max       0.639572\n",
       "Name: stratified_dummy, dtype: float64"
      ]
     },
     "execution_count": 9,
     "metadata": {},
     "output_type": "execute_result"
    }
   ],
   "source": [
    "# Write your code here.\n",
    "stratified_dummy = DummyClassifier(strategy='stratified')\n",
    "\n",
    "results_stratified = cross_validate(stratified_dummy, data, target,\n",
    "                                    cv=cv, n_jobs=2)\n",
    "\n",
    "test_score_dummy_stratified = pd.Series(\n",
    "    results_stratified['test_score'], name='stratified_dummy')\n",
    "\n",
    "test_score_dummy_stratified.describe()"
   ]
  },
  {
   "cell_type": "code",
   "execution_count": 10,
   "id": "7a81b123",
   "metadata": {},
   "outputs": [
    {
     "data": {
      "text/plain": [
       "count    10.000000\n",
       "mean      0.499971\n",
       "std       0.003979\n",
       "min       0.491176\n",
       "25%       0.498086\n",
       "50%       0.500512\n",
       "75%       0.502314\n",
       "max       0.505917\n",
       "Name: uniform_dummy, dtype: float64"
      ]
     },
     "execution_count": 10,
     "metadata": {},
     "output_type": "execute_result"
    }
   ],
   "source": [
    "uniform_dummy = DummyClassifier(strategy='uniform')\n",
    "\n",
    "results_uniform = cross_validate(uniform_dummy, data, target,\n",
    "                                 cv=cv, n_jobs=2)\n",
    "\n",
    "test_score_dummy_uniform = pd.Series(\n",
    "    results_uniform['test_score'], name='uniform_dummy')\n",
    "\n",
    "test_score_dummy_uniform.describe()"
   ]
  },
  {
   "cell_type": "code",
   "execution_count": 11,
   "id": "44830cad",
   "metadata": {},
   "outputs": [
    {
     "data": {
      "text/html": [
       "<div>\n",
       "<style scoped>\n",
       "    .dataframe tbody tr th:only-of-type {\n",
       "        vertical-align: middle;\n",
       "    }\n",
       "\n",
       "    .dataframe tbody tr th {\n",
       "        vertical-align: top;\n",
       "    }\n",
       "\n",
       "    .dataframe thead th {\n",
       "        text-align: right;\n",
       "    }\n",
       "</style>\n",
       "<table border=\"1\" class=\"dataframe\">\n",
       "  <thead>\n",
       "    <tr style=\"text-align: right;\">\n",
       "      <th></th>\n",
       "      <th>logreg</th>\n",
       "      <th>dummy</th>\n",
       "      <th>stratified_dummy</th>\n",
       "      <th>uniform_dummy</th>\n",
       "    </tr>\n",
       "  </thead>\n",
       "  <tbody>\n",
       "    <tr>\n",
       "      <th>0</th>\n",
       "      <td>0.815937</td>\n",
       "      <td>0.760329</td>\n",
       "      <td>0.637075</td>\n",
       "      <td>0.497564</td>\n",
       "    </tr>\n",
       "    <tr>\n",
       "      <th>1</th>\n",
       "      <td>0.813849</td>\n",
       "      <td>0.756808</td>\n",
       "      <td>0.637320</td>\n",
       "      <td>0.500143</td>\n",
       "    </tr>\n",
       "    <tr>\n",
       "      <th>2</th>\n",
       "      <td>0.815036</td>\n",
       "      <td>0.759142</td>\n",
       "      <td>0.637361</td>\n",
       "      <td>0.505917</td>\n",
       "    </tr>\n",
       "    <tr>\n",
       "      <th>3</th>\n",
       "      <td>0.815569</td>\n",
       "      <td>0.760739</td>\n",
       "      <td>0.633758</td>\n",
       "      <td>0.501699</td>\n",
       "    </tr>\n",
       "    <tr>\n",
       "      <th>4</th>\n",
       "      <td>0.810982</td>\n",
       "      <td>0.761681</td>\n",
       "      <td>0.635805</td>\n",
       "      <td>0.500880</td>\n",
       "    </tr>\n",
       "    <tr>\n",
       "      <th>5</th>\n",
       "      <td>0.814709</td>\n",
       "      <td>0.761885</td>\n",
       "      <td>0.637730</td>\n",
       "      <td>0.491176</td>\n",
       "    </tr>\n",
       "    <tr>\n",
       "      <th>6</th>\n",
       "      <td>0.813112</td>\n",
       "      <td>0.757463</td>\n",
       "      <td>0.639572</td>\n",
       "      <td>0.499652</td>\n",
       "    </tr>\n",
       "    <tr>\n",
       "      <th>7</th>\n",
       "      <td>0.810327</td>\n",
       "      <td>0.757176</td>\n",
       "      <td>0.637197</td>\n",
       "      <td>0.497482</td>\n",
       "    </tr>\n",
       "    <tr>\n",
       "      <th>8</th>\n",
       "      <td>0.812416</td>\n",
       "      <td>0.761885</td>\n",
       "      <td>0.632857</td>\n",
       "      <td>0.502518</td>\n",
       "    </tr>\n",
       "    <tr>\n",
       "      <th>9</th>\n",
       "      <td>0.816388</td>\n",
       "      <td>0.763114</td>\n",
       "      <td>0.635560</td>\n",
       "      <td>0.502682</td>\n",
       "    </tr>\n",
       "  </tbody>\n",
       "</table>\n",
       "</div>"
      ],
      "text/plain": [
       "     logreg     dummy  stratified_dummy  uniform_dummy\n",
       "0  0.815937  0.760329          0.637075       0.497564\n",
       "1  0.813849  0.756808          0.637320       0.500143\n",
       "2  0.815036  0.759142          0.637361       0.505917\n",
       "3  0.815569  0.760739          0.633758       0.501699\n",
       "4  0.810982  0.761681          0.635805       0.500880\n",
       "5  0.814709  0.761885          0.637730       0.491176\n",
       "6  0.813112  0.757463          0.639572       0.499652\n",
       "7  0.810327  0.757176          0.637197       0.497482\n",
       "8  0.812416  0.761885          0.632857       0.502518\n",
       "9  0.816388  0.763114          0.635560       0.502682"
      ]
     },
     "execution_count": 11,
     "metadata": {},
     "output_type": "execute_result"
    }
   ],
   "source": [
    "all_test_scores = pd.concat([test_score_logreg, \n",
    "                             test_score_dummy,\n",
    "                             test_score_dummy_stratified,\n",
    "                             test_score_dummy_uniform],\n",
    "                            axis='columns')\n",
    "\n",
    "all_test_scores"
   ]
  },
  {
   "cell_type": "code",
   "execution_count": 12,
   "id": "8e5383ea",
   "metadata": {},
   "outputs": [
    {
     "data": {
      "text/plain": [
       "Text(0.5, 1.0, 'Distribution of the test scores')"
      ]
     },
     "execution_count": 12,
     "metadata": {},
     "output_type": "execute_result"
    },
    {
     "data": {
      "image/png": "[encoded data removed]",
      "text/plain": [
       "<Figure size 432x288 with 1 Axes>"
      ]
     },
     "metadata": {
      "needs_background": "light"
     },
     "output_type": "display_data"
    }
   ],
   "source": [
    "all_test_scores.plot.hist(bins=bins, edgecolor='black')\n",
    "plt.legend(bbox_to_anchor=(1.05, 0.8), loc='upper left')\n",
    "plt.xlabel('Accuracy %')\n",
    "plt.title('Distribution of the test scores')"
   ]
  },
  {
   "cell_type": "markdown",
   "id": "5df788c6",
   "metadata": {},
   "source": [
    "We see that using strategy=\"stratified\", the results are much worse than with the most_frequent strategy. Since the classes are imbalanced, predicting the most frequent involves that we will be right for the proportion of this class (~75% of the samples). However, the \"stratified\" strategy will randomly generate predictions by respecting the training set’s class distribution, resulting in some wrong predictions even for the most frequent class, hence we obtain a lower accuracy.\n",
    "\n",
    "This is even more so for the strategy=\"uniform\": this strategy assigns class labels uniformly at random. Therefore, on a binary classification problem, the cross-validation accuracy is 50% on average, which is the weakest of the three dummy baselines.\n",
    "\n",
    "Note: one could argue that the \"uniform\" or strategy=\"stratified\" strategies are both valid ways to define a “chance level” baseline accuracy for this classification problem, because they make predictions “by chance”.\n",
    "\n",
    "Another way to define a chance level would be to use the [sklearn.model_selection.permutation_test_score](https://scikit-learn.org/stable/modules/generated/sklearn.model_selection.permutation_test_score.html) utility of scikit-learn. Instead of using a dummy classifier, this function compares the cross-validation accuracy of a model of interest to the cross-validation accuracy of this same model but trained on randomly permuted class labels. The permutation_test_score therefore defines a chance level that depends on the choice of the class and hyper-parameters of the estimator of interest. When training on such randomly permuted labels, many machine learning estimators would end up approximately behaving much like the DummyClassifier(strategy=\"most_frequent\") by always predicting the majority class, irrespective of the input features. As a result, this \"most_frequent\" baseline is sometimes called the “chance level” for imbalanced classification problems, even though its predictions are completely deterministic and do not involve much “chance” anymore.\n",
    "\n",
    "Defining the chance level using permutation_test_score is quite computation-intensive because it requires fitting many non-dummy models on random permutations of the data. **Using dummy classifiers as baselines is often enough for practical purposes.** For imbalanced classification problems, the \"most_frequent\" strategy is the strongest of the three baselines and therefore the one we should use."
   ]
  }
 ],
 "metadata": {
  "jupytext": {
   "main_language": "python"
  },
  "kernelspec": {
   "display_name": "Python 3 (ipykernel)",
   "language": "python",
   "name": "python3"
  },
  "language_info": {
   "codemirror_mode": {
    "name": "ipython",
    "version": 3
   },
   "file_extension": ".py",
   "mimetype": "text/x-python",
   "name": "python",
   "nbconvert_exporter": "python",
   "pygments_lexer": "ipython3",
   "version": "3.9.10"
  },
  "nbreset": "https://github.com/INRIA/scikit-learn-mooc/raw/main/notebooks/cross_validation_ex_02.ipynb"
 },
 "nbformat": 4,
 "nbformat_minor": 5
}
