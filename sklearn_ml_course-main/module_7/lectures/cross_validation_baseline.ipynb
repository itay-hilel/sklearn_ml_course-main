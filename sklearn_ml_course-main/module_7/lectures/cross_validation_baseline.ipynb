{
 "cells": [
  {
   "cell_type": "markdown",
   "id": "326a987b",
   "metadata": {},
   "source": [
    "# Comparing model performance with a simple baseline\n",
    "\n",
    "In this notebook, we present how to compare the generalization performance of\n",
    "a model to a minimal baseline. In regression, we can use the `DummyRegressor`\n",
    "class to predict the mean target value observed on the training set without\n",
    "using the input features.\n",
    "\n",
    "We now demonstrate how to compute the score of a regression model compare it\n",
    "to such a baseline on the California housing dataset."
   ]
  },
  {
   "cell_type": "markdown",
   "id": "26d8f8c1",
   "metadata": {},
   "source": [
    "<div class=\"admonition note alert alert-info\">\n",
    "<p class=\"first admonition-title\" style=\"font-weight: bold;\">Note</p>\n",
    "<p class=\"last\">If you want a deeper overview regarding this dataset, you can refer to the\n",
    "section named \"Appendix - Datasets description\" at the end of this MOOC.</p>\n",
    "</div>"
   ]
  },
  {
   "cell_type": "code",
   "execution_count": 1,
   "id": "0fecb8ec",
   "metadata": {},
   "outputs": [],
   "source": [
    "from sklearn.datasets import fetch_california_housing\n",
    "\n",
    "data, target = fetch_california_housing(return_X_y=True, as_frame=True)\n",
    "target *= 100  # rescale the target in k$"
   ]
  },
  {
   "cell_type": "markdown",
   "id": "783a853a",
   "metadata": {},
   "source": [
    "Across all evaluations, we will use a `ShuffleSplit` cross-validation\n",
    "splitter with 20% of the data held on the validation side of the split."
   ]
  },
  {
   "cell_type": "code",
   "execution_count": 2,
   "id": "fbc8a4b2",
   "metadata": {},
   "outputs": [],
   "source": [
    "from sklearn.model_selection import ShuffleSplit\n",
    "\n",
    "cv = ShuffleSplit(n_splits=30, test_size=0.2, random_state=0)"
   ]
  },
  {
   "cell_type": "markdown",
   "id": "e34870b6",
   "metadata": {},
   "source": [
    "We start by running the cross-validation for a simple decision tree regressor\n",
    "which is our model of interest. Besides, we will store the testing error in a\n",
    "pandas series to make it easier to plot the results."
   ]
  },
  {
   "cell_type": "code",
   "execution_count": 3,
   "id": "d21558b7",
   "metadata": {},
   "outputs": [
    {
     "data": {
      "text/plain": [
       "count    30.000000\n",
       "mean     45.726600\n",
       "std       1.150932\n",
       "min      43.171553\n",
       "25%      44.989309\n",
       "50%      45.699494\n",
       "75%      46.556680\n",
       "max      47.925359\n",
       "Name: Decision tree regressor, dtype: float64"
      ]
     },
     "execution_count": 3,
     "metadata": {},
     "output_type": "execute_result"
    }
   ],
   "source": [
    "import pandas as pd\n",
    "from sklearn.tree import DecisionTreeRegressor\n",
    "from sklearn.model_selection import cross_validate\n",
    "\n",
    "regressor = DecisionTreeRegressor()\n",
    "cv_results_tree_regressor = cross_validate(\n",
    "    regressor, data, target, cv=cv, scoring=\"neg_mean_absolute_error\", n_jobs=2\n",
    ")\n",
    "\n",
    "errors_tree_regressor = pd.Series(\n",
    "    -cv_results_tree_regressor[\"test_score\"], name=\"Decision tree regressor\"\n",
    ")\n",
    "errors_tree_regressor.describe()"
   ]
  },
  {
   "cell_type": "markdown",
   "id": "8c27931a",
   "metadata": {},
   "source": [
    "Then, we evaluate our baseline. This baseline is called a dummy regressor.\n",
    "This dummy regressor will always predict the mean target computed on the\n",
    "training target variable. Therefore, the dummy regressor does not use any\n",
    "information from the input features stored in the dataframe named `data`."
   ]
  },
  {
   "cell_type": "code",
   "execution_count": 4,
   "id": "1bdf26c2",
   "metadata": {
    "lines_to_next_cell": 2
   },
   "outputs": [
    {
     "data": {
      "text/plain": [
       "count    30.000000\n",
       "mean     91.140009\n",
       "std       0.821140\n",
       "min      89.757566\n",
       "25%      90.543652\n",
       "50%      91.034555\n",
       "75%      91.979007\n",
       "max      92.477244\n",
       "Name: Dummy regressor, dtype: float64"
      ]
     },
     "execution_count": 4,
     "metadata": {},
     "output_type": "execute_result"
    }
   ],
   "source": [
    "from sklearn.dummy import DummyRegressor\n",
    "\n",
    "dummy = DummyRegressor(strategy=\"mean\")\n",
    "result_dummy = cross_validate(\n",
    "    dummy, data, target, cv=cv, scoring=\"neg_mean_absolute_error\", n_jobs=2\n",
    ")\n",
    "errors_dummy_regressor = pd.Series(\n",
    "    -result_dummy[\"test_score\"], name=\"Dummy regressor\"\n",
    ")\n",
    "errors_dummy_regressor.describe()"
   ]
  },
  {
   "cell_type": "markdown",
   "id": "0db8608f",
   "metadata": {},
   "source": [
    "We now plot the cross-validation testing errors for the mean target baseline\n",
    "and the actual decision tree regressor."
   ]
  },
  {
   "cell_type": "code",
   "execution_count": 5,
   "id": "131c8024",
   "metadata": {},
   "outputs": [
    {
     "data": {
      "text/html": [
       "<div>\n",
       "<style scoped>\n",
       "    .dataframe tbody tr th:only-of-type {\n",
       "        vertical-align: middle;\n",
       "    }\n",
       "\n",
       "    .dataframe tbody tr th {\n",
       "        vertical-align: top;\n",
       "    }\n",
       "\n",
       "    .dataframe thead th {\n",
       "        text-align: right;\n",
       "    }\n",
       "</style>\n",
       "<table border=\"1\" class=\"dataframe\">\n",
       "  <thead>\n",
       "    <tr style=\"text-align: right;\">\n",
       "      <th></th>\n",
       "      <th>Decision tree regressor</th>\n",
       "      <th>Dummy regressor</th>\n",
       "    </tr>\n",
       "  </thead>\n",
       "  <tbody>\n",
       "    <tr>\n",
       "      <th>0</th>\n",
       "      <td>47.050379</td>\n",
       "      <td>90.713153</td>\n",
       "    </tr>\n",
       "    <tr>\n",
       "      <th>1</th>\n",
       "      <td>46.910972</td>\n",
       "      <td>90.539353</td>\n",
       "    </tr>\n",
       "    <tr>\n",
       "      <th>2</th>\n",
       "      <td>44.931196</td>\n",
       "      <td>91.941912</td>\n",
       "    </tr>\n",
       "    <tr>\n",
       "      <th>3</th>\n",
       "      <td>43.603626</td>\n",
       "      <td>90.213912</td>\n",
       "    </tr>\n",
       "    <tr>\n",
       "      <th>4</th>\n",
       "      <td>47.925359</td>\n",
       "      <td>92.015862</td>\n",
       "    </tr>\n",
       "    <tr>\n",
       "      <th>5</th>\n",
       "      <td>44.736546</td>\n",
       "      <td>90.542490</td>\n",
       "    </tr>\n",
       "    <tr>\n",
       "      <th>6</th>\n",
       "      <td>43.832547</td>\n",
       "      <td>89.757566</td>\n",
       "    </tr>\n",
       "    <tr>\n",
       "      <th>7</th>\n",
       "      <td>44.619057</td>\n",
       "      <td>92.477244</td>\n",
       "    </tr>\n",
       "    <tr>\n",
       "      <th>8</th>\n",
       "      <td>45.439647</td>\n",
       "      <td>90.947952</td>\n",
       "    </tr>\n",
       "    <tr>\n",
       "      <th>9</th>\n",
       "      <td>45.422399</td>\n",
       "      <td>91.991373</td>\n",
       "    </tr>\n",
       "    <tr>\n",
       "      <th>10</th>\n",
       "      <td>46.717826</td>\n",
       "      <td>92.023571</td>\n",
       "    </tr>\n",
       "    <tr>\n",
       "      <th>11</th>\n",
       "      <td>46.165227</td>\n",
       "      <td>90.556965</td>\n",
       "    </tr>\n",
       "    <tr>\n",
       "      <th>12</th>\n",
       "      <td>45.661304</td>\n",
       "      <td>91.539567</td>\n",
       "    </tr>\n",
       "    <tr>\n",
       "      <th>13</th>\n",
       "      <td>45.456414</td>\n",
       "      <td>91.185225</td>\n",
       "    </tr>\n",
       "    <tr>\n",
       "      <th>14</th>\n",
       "      <td>47.319153</td>\n",
       "      <td>92.298971</td>\n",
       "    </tr>\n",
       "    <tr>\n",
       "      <th>15</th>\n",
       "      <td>44.970196</td>\n",
       "      <td>91.084639</td>\n",
       "    </tr>\n",
       "    <tr>\n",
       "      <th>16</th>\n",
       "      <td>46.471607</td>\n",
       "      <td>90.984471</td>\n",
       "    </tr>\n",
       "    <tr>\n",
       "      <th>17</th>\n",
       "      <td>46.667022</td>\n",
       "      <td>89.981744</td>\n",
       "    </tr>\n",
       "    <tr>\n",
       "      <th>18</th>\n",
       "      <td>45.046648</td>\n",
       "      <td>90.547140</td>\n",
       "    </tr>\n",
       "    <tr>\n",
       "      <th>19</th>\n",
       "      <td>46.582430</td>\n",
       "      <td>89.820219</td>\n",
       "    </tr>\n",
       "    <tr>\n",
       "      <th>20</th>\n",
       "      <td>43.171553</td>\n",
       "      <td>91.768721</td>\n",
       "    </tr>\n",
       "    <tr>\n",
       "      <th>21</th>\n",
       "      <td>45.737684</td>\n",
       "      <td>92.305556</td>\n",
       "    </tr>\n",
       "    <tr>\n",
       "      <th>22</th>\n",
       "      <td>45.498008</td>\n",
       "      <td>90.503017</td>\n",
       "    </tr>\n",
       "    <tr>\n",
       "      <th>23</th>\n",
       "      <td>46.479429</td>\n",
       "      <td>92.147974</td>\n",
       "    </tr>\n",
       "    <tr>\n",
       "      <th>24</th>\n",
       "      <td>46.085945</td>\n",
       "      <td>91.386320</td>\n",
       "    </tr>\n",
       "    <tr>\n",
       "      <th>25</th>\n",
       "      <td>45.827586</td>\n",
       "      <td>90.815660</td>\n",
       "    </tr>\n",
       "    <tr>\n",
       "      <th>26</th>\n",
       "      <td>44.451113</td>\n",
       "      <td>92.216574</td>\n",
       "    </tr>\n",
       "    <tr>\n",
       "      <th>27</th>\n",
       "      <td>46.190838</td>\n",
       "      <td>90.107460</td>\n",
       "    </tr>\n",
       "    <tr>\n",
       "      <th>28</th>\n",
       "      <td>45.352583</td>\n",
       "      <td>90.620318</td>\n",
       "    </tr>\n",
       "    <tr>\n",
       "      <th>29</th>\n",
       "      <td>47.473712</td>\n",
       "      <td>91.165331</td>\n",
       "    </tr>\n",
       "  </tbody>\n",
       "</table>\n",
       "</div>"
      ],
      "text/plain": [
       "    Decision tree regressor  Dummy regressor\n",
       "0                 47.050379        90.713153\n",
       "1                 46.910972        90.539353\n",
       "2                 44.931196        91.941912\n",
       "3                 43.603626        90.213912\n",
       "4                 47.925359        92.015862\n",
       "5                 44.736546        90.542490\n",
       "6                 43.832547        89.757566\n",
       "7                 44.619057        92.477244\n",
       "8                 45.439647        90.947952\n",
       "9                 45.422399        91.991373\n",
       "10                46.717826        92.023571\n",
       "11                46.165227        90.556965\n",
       "12                45.661304        91.539567\n",
       "13                45.456414        91.185225\n",
       "14                47.319153        92.298971\n",
       "15                44.970196        91.084639\n",
       "16                46.471607        90.984471\n",
       "17                46.667022        89.981744\n",
       "18                45.046648        90.547140\n",
       "19                46.582430        89.820219\n",
       "20                43.171553        91.768721\n",
       "21                45.737684        92.305556\n",
       "22                45.498008        90.503017\n",
       "23                46.479429        92.147974\n",
       "24                46.085945        91.386320\n",
       "25                45.827586        90.815660\n",
       "26                44.451113        92.216574\n",
       "27                46.190838        90.107460\n",
       "28                45.352583        90.620318\n",
       "29                47.473712        91.165331"
      ]
     },
     "execution_count": 5,
     "metadata": {},
     "output_type": "execute_result"
    }
   ],
   "source": [
    "all_errors = pd.concat(\n",
    "    [errors_tree_regressor, errors_dummy_regressor],\n",
    "    axis=1,\n",
    ")\n",
    "all_errors"
   ]
  },
  {
   "cell_type": "code",
   "execution_count": 6,
   "id": "153c24b6",
   "metadata": {},
   "outputs": [
    {
     "data": {
      "image/png": "[encoded data removed]",
      "text/plain": [
       "<Figure size 432x288 with 1 Axes>"
      ]
     },
     "metadata": {
      "needs_background": "light"
     },
     "output_type": "display_data"
    }
   ],
   "source": [
    "import matplotlib.pyplot as plt\n",
    "import numpy as np\n",
    "\n",
    "bins = np.linspace(start=0, stop=100, num=80)\n",
    "all_errors.plot.hist(bins=bins, edgecolor=\"black\")\n",
    "plt.legend(bbox_to_anchor=(1.05, 0.8), loc=\"upper left\")\n",
    "plt.xlabel(\"Mean absolute error (k$)\")\n",
    "_ = plt.title(\"Cross-validation testing errors\")"
   ]
  },
  {
   "cell_type": "markdown",
   "id": "02da7549",
   "metadata": {},
   "source": [
    "We see that the generalization performance of our decision tree is far from\n",
    "being perfect: the price predictions are off by more than 45,000 US dollars\n",
    "on average. However it is much better than the mean price baseline. So this\n",
    "confirms that it is possible to predict the housing price much better by\n",
    "using a model that takes into account the values of the input features\n",
    "(housing location, size, neighborhood income...). Such a model makes more\n",
    "informed predictions and approximately divide the error rate by a factor of 2\n",
    "compared to the baseline that ignores the input features.\n",
    "\n",
    "Note that here we used the mean price as the baseline prediction. We could\n",
    "have used the median instead. See the online documentation of the\n",
    "[sklearn.dummy.DummyRegressor](https://scikit-learn.org/stable/modules/generated/sklearn.dummy.DummyRegressor.html)\n",
    "class for other options. For this particular example, using the mean instead\n",
    "of the median does not make much of a difference but this could have been the\n",
    "case for dataset with extreme outliers."
   ]
  }
 ],
 "metadata": {
  "jupytext": {
   "main_language": "python"
  },
  "kernelspec": {
   "display_name": "Python 3 (ipykernel)",
   "language": "python",
   "name": "python3"
  },
  "language_info": {
   "codemirror_mode": {
    "name": "ipython",
    "version": 3
   },
   "file_extension": ".py",
   "mimetype": "text/x-python",
   "name": "python",
   "nbconvert_exporter": "python",
   "pygments_lexer": "ipython3",
   "version": "3.9.10"
  },
  "nbreset": "https://github.com/INRIA/scikit-learn-mooc/raw/main/notebooks/cross_validation_baseline.ipynb"
 },
 "nbformat": 4,
 "nbformat_minor": 5
}
