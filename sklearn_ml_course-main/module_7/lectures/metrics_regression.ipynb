{
 "cells": [
  {
   "cell_type": "markdown",
   "id": "cc1b46c4",
   "metadata": {},
   "source": [
    "# Regression\n",
    "\n",
    "In this notebook, we will present the metrics that can be used in regression.\n",
    "\n",
    "A set of metrics are dedicated to regression. Indeed, classification metrics\n",
    "cannot be used to evaluate the generalization performance of regression models\n",
    "because there is a fundamental difference between their target type `target`:\n",
    "it is a continuous variable in regression, while a discrete variable in\n",
    "classification.\n",
    "\n",
    "We will use the Ames housing dataset. The goal is to predict the price\n",
    "of houses in the city of Ames, Iowa. As with classification, we will only use\n",
    "a single train-test split to focus solely on the regression metrics."
   ]
  },
  {
   "cell_type": "code",
   "execution_count": 1,
   "id": "e5893765",
   "metadata": {},
   "outputs": [],
   "source": [
    "import pandas as pd\n",
    "import numpy as np\n",
    "\n",
    "ames_housing = pd.read_csv(\"../datasets/house_prices.csv\")\n",
    "data = ames_housing.drop(columns=\"SalePrice\")\n",
    "target = ames_housing[\"SalePrice\"]\n",
    "data = data.select_dtypes(np.number)\n",
    "target /= 1000"
   ]
  },
  {
   "cell_type": "markdown",
   "id": "647377d4",
   "metadata": {},
   "source": [
    "<div class=\"admonition note alert alert-info\">\n",
    "<p class=\"first admonition-title\" style=\"font-weight: bold;\">Note</p>\n",
    "<p class=\"last\">If you want a deeper overview regarding this dataset, you can refer to the\n",
    "Appendix - Datasets description section at the end of this MOOC.</p>\n",
    "</div>"
   ]
  },
  {
   "cell_type": "markdown",
   "id": "baa802cf",
   "metadata": {},
   "source": [
    "Let's start by splitting our dataset intro a train and test set."
   ]
  },
  {
   "cell_type": "code",
   "execution_count": 2,
   "id": "868f8550",
   "metadata": {},
   "outputs": [],
   "source": [
    "from sklearn.model_selection import train_test_split\n",
    "\n",
    "data_train, data_test, target_train, target_test = train_test_split(\n",
    "    data, target, shuffle=True, random_state=0\n",
    ")"
   ]
  },
  {
   "cell_type": "markdown",
   "id": "9691cded",
   "metadata": {},
   "source": [
    "Some machine learning models are designed to be solved as an optimization\n",
    "problem: minimizing an error (also known as the loss function) using a\n",
    "training set.\n",
    "A basic loss function used in regression is the mean squared error (MSE).\n",
    "Thus, this metric is sometimes used to evaluate the model since it is\n",
    "optimized by said model.\n",
    "\n",
    "We will give an example using a linear regression model."
   ]
  },
  {
   "cell_type": "code",
   "execution_count": 3,
   "id": "9dfd7c88",
   "metadata": {},
   "outputs": [
    {
     "name": "stdout",
     "output_type": "stream",
     "text": [
      "Mean squared error on the training set: 996.902\n"
     ]
    }
   ],
   "source": [
    "from sklearn.linear_model import LinearRegression\n",
    "from sklearn.metrics import mean_squared_error\n",
    "\n",
    "regressor = LinearRegression()\n",
    "regressor.fit(data_train, target_train)\n",
    "target_predicted = regressor.predict(data_train)\n",
    "\n",
    "print(f\"Mean squared error on the training set: \"\n",
    "      f\"{mean_squared_error(target_train, target_predicted):.3f}\")"
   ]
  },
  {
   "cell_type": "markdown",
   "id": "9629632d",
   "metadata": {},
   "source": [
    "Our linear regression model is minimizing the mean squared error on the\n",
    "training set. It means that there is no other set of coefficients which\n",
    "will decrease the error.\n",
    "\n",
    "Then, we can compute the mean squared error on the test set."
   ]
  },
  {
   "cell_type": "code",
   "execution_count": 4,
   "id": "84f053bb",
   "metadata": {},
   "outputs": [
    {
     "name": "stdout",
     "output_type": "stream",
     "text": [
      "Mean squared error on the testing set: 2064.736\n"
     ]
    }
   ],
   "source": [
    "target_predicted = regressor.predict(data_test)\n",
    "\n",
    "print(f\"Mean squared error on the testing set: \"\n",
    "      f\"{mean_squared_error(target_test, target_predicted):.3f}\")"
   ]
  },
  {
   "cell_type": "markdown",
   "id": "3294bd42",
   "metadata": {},
   "source": [
    "The raw MSE can be difficult to interpret. One way is to rescale the MSE\n",
    "by the variance of the target. This score is known as the $R^2$ also called\n",
    "the coefficient of determination. Indeed, this is the default score used\n",
    "in scikit-learn by calling the method `score`."
   ]
  },
  {
   "cell_type": "code",
   "execution_count": 5,
   "id": "8016c408",
   "metadata": {},
   "outputs": [
    {
     "data": {
      "text/plain": [
       "0.6872520581075483"
      ]
     },
     "execution_count": 5,
     "metadata": {},
     "output_type": "execute_result"
    }
   ],
   "source": [
    "regressor.score(data_test, target_test)"
   ]
  },
  {
   "cell_type": "markdown",
   "id": "caa3883f",
   "metadata": {},
   "source": [
    "The $R^2$ score represents the proportion of variance of the target that is\n",
    "explained by the independent variables in the model. The best score possible\n",
    "is 1 but there is no lower bound. However, a model that predicts the expected\n",
    "value of the target would get a score of 0."
   ]
  },
  {
   "cell_type": "code",
   "execution_count": 6,
   "id": "5b5ae104",
   "metadata": {},
   "outputs": [
    {
     "name": "stdout",
     "output_type": "stream",
     "text": [
      "R2 score for a regressor predicting the mean:-0.000\n"
     ]
    }
   ],
   "source": [
    "from sklearn.dummy import DummyRegressor\n",
    "\n",
    "dummy_regressor = DummyRegressor(strategy=\"mean\")\n",
    "dummy_regressor.fit(data_train, target_train)\n",
    "print(f\"R2 score for a regressor predicting the mean:\"\n",
    "      f\"{dummy_regressor.score(data_test, target_test):.3f}\")"
   ]
  },
  {
   "cell_type": "markdown",
   "id": "16713504",
   "metadata": {},
   "source": [
    "The $R^2$ score gives insight into the quality of the model's fit. However,\n",
    "this score cannot be compared from one dataset to another and the value\n",
    "obtained does not have a meaningful interpretation relative the original unit\n",
    "of the target. If we wanted to get an interpretable score, we would be\n",
    "interested in the median or mean absolute error."
   ]
  },
  {
   "cell_type": "code",
   "execution_count": 7,
   "id": "81d3ef04",
   "metadata": {},
   "outputs": [
    {
     "name": "stdout",
     "output_type": "stream",
     "text": [
      "Mean absolute error: 22.608 k$\n"
     ]
    }
   ],
   "source": [
    "from sklearn.metrics import mean_absolute_error\n",
    "\n",
    "target_predicted = regressor.predict(data_test)\n",
    "print(f\"Mean absolute error: \"\n",
    "      f\"{mean_absolute_error(target_test, target_predicted):.3f} k$\")"
   ]
  },
  {
   "cell_type": "markdown",
   "id": "ce30d4ea",
   "metadata": {},
   "source": [
    "By computing the mean absolute error, we can interpret that our model is\n",
    "predicting on average 22.6 k\\\\$ away from the true house price. A disadvantage\n",
    "of this metric is that the mean can be impacted by large error. For some\n",
    "applications, we might not want these large errors to have such a big\n",
    "influence on our metric. In this case we can use the median absolute error."
   ]
  },
  {
   "cell_type": "code",
   "execution_count": 8,
   "id": "8df42ee1",
   "metadata": {},
   "outputs": [
    {
     "name": "stdout",
     "output_type": "stream",
     "text": [
      "Median absolute error: 14.137 k$\n"
     ]
    }
   ],
   "source": [
    "from sklearn.metrics import median_absolute_error\n",
    "\n",
    "print(f\"Median absolute error: \"\n",
    "      f\"{median_absolute_error(target_test, target_predicted):.3f} k$\")"
   ]
  },
  {
   "cell_type": "markdown",
   "id": "a8e69681",
   "metadata": {},
   "source": [
    "The mean absolute error (or median absolute error) still have a known\n",
    "limitation: committing an error of 50 k\\\\$ for a house valued at 50 k\\\\$ has the\n",
    "same impact than committing an error of 50 k\\\\$ for a house valued at 500 k\\\\$.\n",
    "Indeed, the mean absolute error is not relative.\n",
    "\n",
    "The mean absolute percentage error introduce this relative scaling."
   ]
  },
  {
   "cell_type": "code",
   "execution_count": 9,
   "id": "fda33eb8",
   "metadata": {},
   "outputs": [
    {
     "name": "stdout",
     "output_type": "stream",
     "text": [
      "Mean absolute percentage error: 13.574 %\n"
     ]
    }
   ],
   "source": [
    "from sklearn.metrics import mean_absolute_percentage_error\n",
    "\n",
    "print(f\"Mean absolute percentage error: \"\n",
    "      f\"{mean_absolute_percentage_error(target_test, target_predicted) * 100:.3f} %\")"
   ]
  },
  {
   "cell_type": "markdown",
   "id": "69161fe9",
   "metadata": {},
   "source": [
    "In addition of metrics, we can visually represent the results by plotting\n",
    "the predicted values versus the true values."
   ]
  },
  {
   "cell_type": "code",
   "execution_count": 10,
   "id": "8c80201e",
   "metadata": {},
   "outputs": [],
   "source": [
    "predicted_actual = {\n",
    "    \"True values (k$)\": target_test, \"Predicted values (k$)\": target_predicted}\n",
    "predicted_actual = pd.DataFrame(predicted_actual)"
   ]
  },
  {
   "cell_type": "code",
   "execution_count": 11,
   "id": "0635c049",
   "metadata": {},
   "outputs": [
    {
     "data": {
      "image/png": "[encoded data removed]",
      "text/plain": [
       "<Figure size 432x288 with 1 Axes>"
      ]
     },
     "metadata": {
      "needs_background": "light"
     },
     "output_type": "display_data"
    }
   ],
   "source": [
    "import matplotlib.pyplot as plt\n",
    "import seaborn as sns\n",
    "\n",
    "sns.scatterplot(data=predicted_actual,\n",
    "                x=\"True values (k$)\", y=\"Predicted values (k$)\",\n",
    "                color=\"black\", alpha=0.5)\n",
    "plt.axline((0, 0), slope=1, label=\"Perfect fit\")\n",
    "plt.axis('square')\n",
    "_ = plt.title(\"Regression using a model without \\ntarget transformation\")"
   ]
  },
  {
   "cell_type": "markdown",
   "id": "513bda26",
   "metadata": {},
   "source": [
    "On this plot, correct predictions would lie on the diagonal line. This plot\n",
    "allows us to detect if the model makes errors in a consistent way, i.e.\n",
    "has some bias.\n",
    "\n",
    "On this plot, we see that for the large True price values, our model tends to\n",
    "under-estimate the price of the house. Typically, this issue arises when the\n",
    "target to predict does not follow a normal distribution. In this case the\n",
    "model would benefit from target transformation."
   ]
  },
  {
   "cell_type": "code",
   "execution_count": 12,
   "id": "23328697",
   "metadata": {},
   "outputs": [],
   "source": [
    "from sklearn.preprocessing import QuantileTransformer\n",
    "from sklearn.compose import TransformedTargetRegressor\n",
    "\n",
    "transformer = QuantileTransformer(\n",
    "    n_quantiles=900, output_distribution=\"normal\")\n",
    "model_transformed_target = TransformedTargetRegressor(\n",
    "    regressor=regressor, transformer=transformer)\n",
    "model_transformed_target.fit(data_train, target_train)\n",
    "target_predicted = model_transformed_target.predict(data_test)"
   ]
  },
  {
   "cell_type": "code",
   "execution_count": 13,
   "id": "180dcf19",
   "metadata": {},
   "outputs": [],
   "source": [
    "predicted_actual = {\n",
    "    \"True values (k$)\": target_test, \"Predicted values (k$)\": target_predicted}\n",
    "predicted_actual = pd.DataFrame(predicted_actual)"
   ]
  },
  {
   "cell_type": "code",
   "execution_count": 14,
   "id": "1f35c461",
   "metadata": {},
   "outputs": [
    {
     "data": {
      "image/png": "[encoded data removed]",
      "text/plain": [
       "<Figure size 432x288 with 1 Axes>"
      ]
     },
     "metadata": {
      "needs_background": "light"
     },
     "output_type": "display_data"
    }
   ],
   "source": [
    "sns.scatterplot(data=predicted_actual,\n",
    "                x=\"True values (k$)\", y=\"Predicted values (k$)\",\n",
    "                color=\"black\", alpha=0.5)\n",
    "plt.axline((0, 0), slope=1, label=\"Perfect fit\")\n",
    "plt.axis('square')\n",
    "plt.legend()\n",
    "_ = plt.title(\"Regression using a model that\\n transform the target before \"\n",
    "              \"fitting\")"
   ]
  },
  {
   "cell_type": "markdown",
   "id": "b5d2220e",
   "metadata": {},
   "source": [
    "Thus, once we transformed the target, we see that we corrected some of the\n",
    "high values."
   ]
  }
 ],
 "metadata": {
  "jupytext": {
   "main_language": "python"
  },
  "kernelspec": {
   "display_name": "Python 3 (ipykernel)",
   "language": "python",
   "name": "python3"
  },
  "language_info": {
   "codemirror_mode": {
    "name": "ipython",
    "version": 3
   },
   "file_extension": ".py",
   "mimetype": "text/x-python",
   "name": "python",
   "nbconvert_exporter": "python",
   "pygments_lexer": "ipython3",
   "version": "3.9.10"
  },
  "nbreset": "https://github.com/INRIA/scikit-learn-mooc/raw/main/notebooks/metrics_regression.ipynb"
 },
 "nbformat": 4,
 "nbformat_minor": 5
}
