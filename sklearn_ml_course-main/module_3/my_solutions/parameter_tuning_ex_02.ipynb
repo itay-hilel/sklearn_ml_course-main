{
 "cells": [
  {
   "cell_type": "markdown",
   "id": "bcf089f8",
   "metadata": {},
   "source": [
    "# 📝 Exercise M3.01\n",
    "\n",
    "The goal is to write an exhaustive search to find the best parameters\n",
    "combination maximizing the model generalization performance.\n",
    "\n",
    "Here we use a small subset of the Adult Census dataset to make the code\n",
    "faster to execute. Once your code works on the small subset, try to\n",
    "change `train_size` to a larger value (e.g. 0.8 for 80% instead of\n",
    "20%)."
   ]
  },
  {
   "cell_type": "code",
   "execution_count": 1,
   "id": "40fc8866",
   "metadata": {},
   "outputs": [],
   "source": [
    "import pandas as pd\n",
    "\n",
    "from sklearn.model_selection import train_test_split\n",
    "\n",
    "adult_census = pd.read_csv(\"../datasets/adult-census.csv\")\n",
    "\n",
    "target_name = \"class\"\n",
    "target = adult_census[target_name]\n",
    "data = adult_census.drop(columns=[target_name, \"education-num\"])\n",
    "\n",
    "data_train, data_test, target_train, target_test = train_test_split(\n",
    "    data, target, train_size=0.8, random_state=42)"
   ]
  },
  {
   "cell_type": "code",
   "execution_count": 2,
   "id": "5d98301c",
   "metadata": {},
   "outputs": [],
   "source": [
    "from sklearn.compose import ColumnTransformer\n",
    "from sklearn.compose import make_column_selector as selector\n",
    "from sklearn.preprocessing import OrdinalEncoder\n",
    "\n",
    "categorical_preprocessor = OrdinalEncoder(handle_unknown=\"use_encoded_value\",\n",
    "                                          unknown_value=-1)\n",
    "preprocessor = ColumnTransformer(\n",
    "    [('cat_preprocessor', categorical_preprocessor,\n",
    "      selector(dtype_include=object))],\n",
    "    remainder='passthrough', sparse_threshold=0)\n",
    "\n",
    "from sklearn.ensemble import HistGradientBoostingClassifier\n",
    "from sklearn.pipeline import Pipeline\n",
    "\n",
    "model = Pipeline([\n",
    "    (\"preprocessor\", preprocessor),\n",
    "    (\"classifier\", HistGradientBoostingClassifier(random_state=42))\n",
    "])"
   ]
  },
  {
   "cell_type": "markdown",
   "id": "77ce9199",
   "metadata": {},
   "source": [
    "\n",
    "Use the previously defined model (called `model`) and using two nested `for`\n",
    "loops, make a search of the best combinations of the `learning_rate` and\n",
    "`max_leaf_nodes` parameters. In this regard, you will need to train and test\n",
    "the model by setting the parameters. The evaluation of the model should be\n",
    "performed using `cross_val_score` on the training set. We will use the\n",
    "following parameters search:\n",
    "- `learning_rate` for the values 0.01, 0.1, 1 and 10. This parameter controls\n",
    "  the ability of a new tree to correct the error of the previous sequence of\n",
    "  trees\n",
    "- `max_leaf_nodes` for the values 3, 10, 30. This parameter controls the\n",
    "  depth of each tree."
   ]
  },
  {
   "cell_type": "code",
   "execution_count": 3,
   "id": "4f763d87",
   "metadata": {},
   "outputs": [
    {
     "name": "stdout",
     "output_type": "stream",
     "text": [
      "memory\n",
      "steps\n",
      "verbose\n",
      "preprocessor\n",
      "classifier\n",
      "preprocessor__n_jobs\n",
      "preprocessor__remainder\n",
      "preprocessor__sparse_threshold\n",
      "preprocessor__transformer_weights\n",
      "preprocessor__transformers\n",
      "preprocessor__verbose\n",
      "preprocessor__verbose_feature_names_out\n",
      "preprocessor__cat_preprocessor\n",
      "preprocessor__cat_preprocessor__categories\n",
      "preprocessor__cat_preprocessor__dtype\n",
      "preprocessor__cat_preprocessor__handle_unknown\n",
      "preprocessor__cat_preprocessor__unknown_value\n",
      "classifier__categorical_features\n",
      "classifier__early_stopping\n",
      "classifier__l2_regularization\n",
      "classifier__learning_rate\n",
      "classifier__loss\n",
      "classifier__max_bins\n",
      "classifier__max_depth\n",
      "classifier__max_iter\n",
      "classifier__max_leaf_nodes\n",
      "classifier__min_samples_leaf\n",
      "classifier__monotonic_cst\n",
      "classifier__n_iter_no_change\n",
      "classifier__random_state\n",
      "classifier__scoring\n",
      "classifier__tol\n",
      "classifier__validation_fraction\n",
      "classifier__verbose\n",
      "classifier__warm_start\n"
     ]
    }
   ],
   "source": [
    "for param in model.get_params():\n",
    "    print(param)"
   ]
  },
  {
   "cell_type": "code",
   "execution_count": 4,
   "id": "2d0b2e1f",
   "metadata": {},
   "outputs": [
    {
     "name": "stdout",
     "output_type": "stream",
     "text": [
      "Accuracy score via cross-validation with learning_rate=0.01 and max_leaf_nodes=3:\n",
      "0.797 +/- 0.002\n",
      "Accuracy score via cross-validation with learning_rate=0.01 and max_leaf_nodes=10:\n",
      "0.819 +/- 0.003\n",
      "Accuracy score via cross-validation with learning_rate=0.01 and max_leaf_nodes=30:\n",
      "0.848 +/- 0.004\n",
      "Accuracy score via cross-validation with learning_rate=0.1 and max_leaf_nodes=3:\n",
      "0.855 +/- 0.003\n",
      "Accuracy score via cross-validation with learning_rate=0.1 and max_leaf_nodes=10:\n",
      "0.869 +/- 0.003\n",
      "Accuracy score via cross-validation with learning_rate=0.1 and max_leaf_nodes=30:\n",
      "0.871 +/- 0.003\n",
      "Accuracy score via cross-validation with learning_rate=1.0 and max_leaf_nodes=3:\n",
      "0.862 +/- 0.007\n",
      "Accuracy score via cross-validation with learning_rate=1.0 and max_leaf_nodes=10:\n",
      "0.862 +/- 0.009\n",
      "Accuracy score via cross-validation with learning_rate=1.0 and max_leaf_nodes=30:\n",
      "0.859 +/- 0.003\n",
      "Accuracy score via cross-validation with learning_rate=10.0 and max_leaf_nodes=3:\n",
      "0.282 +/- 0.005\n",
      "Accuracy score via cross-validation with learning_rate=10.0 and max_leaf_nodes=10:\n",
      "0.761 +/- 0.043\n",
      "Accuracy score via cross-validation with learning_rate=10.0 and max_leaf_nodes=30:\n",
      "0.356 +/- 0.154\n"
     ]
    }
   ],
   "source": [
    "# Write your code here.\n",
    "import numpy as np\n",
    "from sklearn.model_selection import cross_validate\n",
    "\n",
    "learning_rates = [0.001 * 10 ** x for x in range(1, 5)]\n",
    "max_leaf_nodes = [3, 10, 30]\n",
    "\n",
    "for lr in learning_rates:\n",
    "    for ml in max_leaf_nodes:\n",
    "        model.set_params(classifier__learning_rate=lr)\n",
    "        model.set_params(classifier__max_leaf_nodes=ml)\n",
    "        cv_result = cross_validate(model, data_train, target_train)\n",
    "        scores = cv_result[\"test_score\"]\n",
    "        print(f\"Accuracy score via cross-validation with learning_rate={lr} and max_leaf_nodes={ml}:\\n\"\n",
    "          f\"{scores.mean():.3f} +/- {scores.std():.3f}\")"
   ]
  },
  {
   "cell_type": "markdown",
   "id": "4db50954",
   "metadata": {},
   "source": [
    "\n",
    "Now use the test set to score the model using the best parameters\n",
    "that we found using cross-validation in the training set."
   ]
  },
  {
   "cell_type": "code",
   "execution_count": 5,
   "id": "e4bf14fb",
   "metadata": {},
   "outputs": [
    {
     "name": "stdout",
     "output_type": "stream",
     "text": [
      "Test score after the parameter tuning: 0.879\n"
     ]
    }
   ],
   "source": [
    "# Write your code here.\n",
    "model.set_params(classifier__learning_rate=0.1,\n",
    "                 classifier__max_leaf_nodes=30)\n",
    "\n",
    "model.fit(data_train, target_train)\n",
    "test_score = model.score(data_test, target_test)\n",
    "\n",
    "print(f\"Test score after the parameter tuning: {test_score:.3f}\")"
   ]
  }
 ],
 "metadata": {
  "jupytext": {
   "encoding": "# -*- coding: utf-8 -*-",
   "main_language": "python"
  },
  "kernelspec": {
   "display_name": "Python 3 (ipykernel)",
   "language": "python",
   "name": "python3"
  },
  "language_info": {
   "codemirror_mode": {
    "name": "ipython",
    "version": 3
   },
   "file_extension": ".py",
   "mimetype": "text/x-python",
   "name": "python",
   "nbconvert_exporter": "python",
   "pygments_lexer": "ipython3",
   "version": "3.9.10"
  },
  "nbreset": "https://github.com/INRIA/scikit-learn-mooc/raw/main/notebooks/parameter_tuning_ex_02.ipynb"
 },
 "nbformat": 4,
 "nbformat_minor": 5
}
