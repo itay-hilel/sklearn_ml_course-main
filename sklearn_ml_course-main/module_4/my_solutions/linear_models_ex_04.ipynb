{
 "cells": [
  {
   "cell_type": "code",
   "execution_count": 1,
   "id": "457cc7a1",
   "metadata": {
    "lines_to_next_cell": 0
   },
   "outputs": [],
   "source": [
    "# -*- coding: utf-8 -*-"
   ]
  },
  {
   "cell_type": "markdown",
   "id": "626c6cba",
   "metadata": {},
   "source": [
    "# 📝 Exercise M4.04\n",
    "\n",
    "In the previous notebook, we saw the effect of applying some regularization\n",
    "on the coefficient of a linear model.\n",
    "\n",
    "In this exercise, we will study the advantage of using some regularization\n",
    "when dealing with correlated features.\n",
    "\n",
    "We will first create a regression dataset. This dataset will contain 2,000\n",
    "samples and 5 features from which only 2 features will be informative."
   ]
  },
  {
   "cell_type": "code",
   "execution_count": 2,
   "id": "f12d591a",
   "metadata": {},
   "outputs": [],
   "source": [
    "from sklearn.datasets import make_regression\n",
    "\n",
    "data, target, coef = make_regression(\n",
    "    n_samples=2_000,\n",
    "    n_features=5,\n",
    "    n_informative=2,\n",
    "    shuffle=False,\n",
    "    coef=True,\n",
    "    random_state=0,\n",
    "    noise=30,\n",
    ")"
   ]
  },
  {
   "cell_type": "markdown",
   "id": "72dd0bfa",
   "metadata": {},
   "source": [
    "When creating the dataset, `make_regression` returns the true coefficient\n",
    "used to generate the dataset. Let's plot this information."
   ]
  },
  {
   "cell_type": "code",
   "execution_count": 3,
   "id": "3937e27f",
   "metadata": {},
   "outputs": [
    {
     "data": {
      "text/plain": [
       "Relevant feature #0     9.566665\n",
       "Relevant feature #1    40.192077\n",
       "Noisy feature #0        0.000000\n",
       "Noisy feature #1        0.000000\n",
       "Noisy feature #2        0.000000\n",
       "dtype: float64"
      ]
     },
     "execution_count": 3,
     "metadata": {},
     "output_type": "execute_result"
    },
    {
     "data": {
      "image/png": "[encoded data removed]",
      "text/plain": [
       "<Figure size 432x288 with 1 Axes>"
      ]
     },
     "metadata": {
      "needs_background": "light"
     },
     "output_type": "display_data"
    }
   ],
   "source": [
    "import pandas as pd\n",
    "\n",
    "feature_names = [\n",
    "    \"Relevant feature #0\",\n",
    "    \"Relevant feature #1\",\n",
    "    \"Noisy feature #0\",\n",
    "    \"Noisy feature #1\",\n",
    "    \"Noisy feature #2\",\n",
    "]\n",
    "coef = pd.Series(coef, index=feature_names)\n",
    "coef.plot.barh()\n",
    "coef"
   ]
  },
  {
   "cell_type": "markdown",
   "id": "2936b819",
   "metadata": {},
   "source": [
    "Create a `LinearRegression` regressor and fit on the entire dataset and\n",
    "check the value of the coefficients. Are the coefficients of the linear\n",
    "regressor close to the coefficients used to generate the dataset?"
   ]
  },
  {
   "cell_type": "code",
   "execution_count": 4,
   "id": "739c0f6a",
   "metadata": {},
   "outputs": [
    {
     "data": {
      "text/plain": [
       "array([10.89587004, 40.41128042, -0.20542454, -0.18954462,  0.11129768])"
      ]
     },
     "execution_count": 4,
     "metadata": {},
     "output_type": "execute_result"
    }
   ],
   "source": [
    "# Write your code here.\n",
    "from sklearn.linear_model import LinearRegression\n",
    "\n",
    "model = LinearRegression()\n",
    "\n",
    "model.fit(data, target)\n",
    "\n",
    "model.coef_"
   ]
  },
  {
   "cell_type": "code",
   "execution_count": 5,
   "id": "dc0ca8e6",
   "metadata": {},
   "outputs": [
    {
     "data": {
      "image/png": "[encoded data removed]",
      "text/plain": [
       "<Figure size 432x288 with 1 Axes>"
      ]
     },
     "metadata": {
      "needs_background": "light"
     },
     "output_type": "display_data"
    }
   ],
   "source": [
    "feature_names = [\n",
    "    'Relevant feature #0',\n",
    "    'Relevant feature #1',\n",
    "    'Noisy feature #0',\n",
    "    'Noisy feature #1',\n",
    "    'Noisy feature #2'\n",
    "]\n",
    "\n",
    "coef = pd.Series(model.coef_, index=feature_names)\n",
    "_ = coef.plot.barh()"
   ]
  },
  {
   "cell_type": "markdown",
   "id": "045f4667",
   "metadata": {},
   "source": [
    "Now, create a new dataset that will be the same as `data` with 4 additional\n",
    "columns that will repeat twice features 0 and 1. This procedure will create\n",
    "perfectly correlated features."
   ]
  },
  {
   "cell_type": "code",
   "execution_count": 6,
   "id": "c3909c05",
   "metadata": {},
   "outputs": [
    {
     "data": {
      "text/plain": [
       "array([[ 1.76405235,  0.40015721,  0.97873798,  2.2408932 ,  1.86755799],\n",
       "       [-0.97727788,  0.95008842, -0.15135721, -0.10321885,  0.4105985 ],\n",
       "       [ 0.14404357,  1.45427351,  0.76103773,  0.12167502,  0.44386323],\n",
       "       ...,\n",
       "       [-0.77440295,  0.70878733,  0.0184736 , -0.10408058, -0.23485774],\n",
       "       [-0.25090635, -0.96275025,  0.49340515,  2.13305005,  0.98388829],\n",
       "       [-1.80928169,  0.04235881,  0.51687218, -0.03292069,  1.29811143]])"
      ]
     },
     "execution_count": 6,
     "metadata": {},
     "output_type": "execute_result"
    }
   ],
   "source": [
    "data"
   ]
  },
  {
   "cell_type": "code",
   "execution_count": 7,
   "id": "3d1b3fb0",
   "metadata": {},
   "outputs": [
    {
     "data": {
      "text/plain": [
       "array([[ 1.76405235,  0.40015721,  0.97873798, ...,  0.40015721,\n",
       "         1.76405235,  0.40015721],\n",
       "       [-0.97727788,  0.95008842, -0.15135721, ...,  0.95008842,\n",
       "        -0.97727788,  0.95008842],\n",
       "       [ 0.14404357,  1.45427351,  0.76103773, ...,  1.45427351,\n",
       "         0.14404357,  1.45427351],\n",
       "       ...,\n",
       "       [-0.77440295,  0.70878733,  0.0184736 , ...,  0.70878733,\n",
       "        -0.77440295,  0.70878733],\n",
       "       [-0.25090635, -0.96275025,  0.49340515, ..., -0.96275025,\n",
       "        -0.25090635, -0.96275025],\n",
       "       [-1.80928169,  0.04235881,  0.51687218, ...,  0.04235881,\n",
       "        -1.80928169,  0.04235881]])"
      ]
     },
     "execution_count": 7,
     "metadata": {},
     "output_type": "execute_result"
    }
   ],
   "source": [
    "# Write your code here.\n",
    "import numpy as np\n",
    "\n",
    "new_data = np.concatenate([data, data[:, [0, 1]], data[:, [0, 1]]], axis=1)\n",
    "\n",
    "new_data"
   ]
  },
  {
   "cell_type": "markdown",
   "id": "4d2ccf73",
   "metadata": {},
   "source": [
    "Fit again the linear regressor on this new dataset and check the\n",
    "coefficients. What do you observe?"
   ]
  },
  {
   "cell_type": "code",
   "execution_count": 8,
   "id": "a0e933d2",
   "metadata": {},
   "outputs": [
    {
     "data": {
      "text/plain": [
       "array([ 1.33594010e+12, -1.62497905e+14, -1.98242188e-01, -1.87133789e-01,\n",
       "        9.57031250e-02, -6.67970049e+11,  4.20600332e+13, -6.67970049e+11,\n",
       "        1.20437872e+14])"
      ]
     },
     "execution_count": 8,
     "metadata": {},
     "output_type": "execute_result"
    }
   ],
   "source": [
    "# Write your code here.\n",
    "model_rep = LinearRegression()\n",
    "model_rep.fit(new_data, target)\n",
    "\n",
    "model_rep.coef_"
   ]
  },
  {
   "cell_type": "code",
   "execution_count": 9,
   "id": "ab560259",
   "metadata": {},
   "outputs": [
    {
     "data": {
      "image/png": "[encoded data removed]",
      "text/plain": [
       "<Figure size 432x288 with 1 Axes>"
      ]
     },
     "metadata": {
      "needs_background": "light"
     },
     "output_type": "display_data"
    }
   ],
   "source": [
    "feature_names = [\n",
    "    'Relevant feature #0',\n",
    "    'Relevant feature #1',\n",
    "    'Noisy feature #0',\n",
    "    'Noisy feature #1',\n",
    "    'Noisy feature #2',\n",
    "    'First repetition of feature #0',\n",
    "    'First repetition of  feature #1',\n",
    "    'Second repetition of  feature #0',\n",
    "    'Second repetition of  feature #1',\n",
    "]\n",
    "\n",
    "coef = pd.Series(model_rep.coef_, index=feature_names)\n",
    "_ = coef.plot.barh()"
   ]
  },
  {
   "cell_type": "markdown",
   "id": "e16badf2",
   "metadata": {},
   "source": [
    "Create a ridge regressor and fit on the same dataset. Check the coefficients.\n",
    "What do you observe?"
   ]
  },
  {
   "cell_type": "code",
   "execution_count": 10,
   "id": "b74188b1",
   "metadata": {},
   "outputs": [
    {
     "data": {
      "text/plain": [
       "array([ 3.6313933 , 13.46802113, -0.20549345, -0.18929961,  0.11117205,\n",
       "        3.6313933 , 13.46802113,  3.6313933 , 13.46802113])"
      ]
     },
     "execution_count": 10,
     "metadata": {},
     "output_type": "execute_result"
    }
   ],
   "source": [
    "# Write your code here.\n",
    "from sklearn.linear_model import Ridge\n",
    "\n",
    "ridge_model = Ridge()\n",
    "ridge_model.fit(new_data, target)\n",
    "\n",
    "ridge_model.coef_"
   ]
  },
  {
   "cell_type": "code",
   "execution_count": 11,
   "id": "34b1cd50",
   "metadata": {},
   "outputs": [
    {
     "data": {
      "image/png": "[encoded data removed]",
      "text/plain": [
       "<Figure size 432x288 with 1 Axes>"
      ]
     },
     "metadata": {
      "needs_background": "light"
     },
     "output_type": "display_data"
    }
   ],
   "source": [
    "coef = pd.Series(ridge_model.coef_, index=feature_names)\n",
    "_ = coef.plot.barh()"
   ]
  },
  {
   "cell_type": "markdown",
   "id": "7affaeff",
   "metadata": {},
   "source": [
    "Can you find the relationship between the ridge coefficients and the original\n",
    "coefficients?"
   ]
  },
  {
   "cell_type": "code",
   "execution_count": 12,
   "id": "467ced15",
   "metadata": {},
   "outputs": [
    {
     "data": {
      "text/plain": [
       "array([ 3.6313933 , 13.46802113, -0.20549345, -0.18929961,  0.11117205])"
      ]
     },
     "execution_count": 12,
     "metadata": {},
     "output_type": "execute_result"
    }
   ],
   "source": [
    "# Write your code here.\n",
    "ridge_model.coef_[:5]"
   ]
  },
  {
   "cell_type": "code",
   "execution_count": 13,
   "id": "ba0645c6",
   "metadata": {},
   "outputs": [
    {
     "data": {
      "text/plain": [
       "array([10.89587004, 40.41128042, -0.20542454, -0.18954462,  0.11129768])"
      ]
     },
     "execution_count": 13,
     "metadata": {},
     "output_type": "execute_result"
    }
   ],
   "source": [
    "model.coef_"
   ]
  },
  {
   "cell_type": "code",
   "execution_count": 14,
   "id": "380fc3f0",
   "metadata": {},
   "outputs": [
    {
     "data": {
      "text/plain": [
       "array([10.89417991, 40.40406338, -0.61648035, -0.56789883,  0.33351616])"
      ]
     },
     "execution_count": 14,
     "metadata": {},
     "output_type": "execute_result"
    }
   ],
   "source": [
    "ridge_model.coef_[:5] * 3"
   ]
  },
  {
   "cell_type": "markdown",
   "id": "c143608b",
   "metadata": {},
   "source": [
    "### Extra: Dealing with correlation between one-hot encoded features"
   ]
  },
  {
   "cell_type": "markdown",
   "id": "fb9003c1",
   "metadata": {},
   "source": [
    "In this section, we will focus on how to deal with correlated features that arise naturally when one-hot encoding categorical features."
   ]
  },
  {
   "cell_type": "markdown",
   "id": "e37a457e",
   "metadata": {},
   "source": [
    "Let’s first load the Ames housing dataset and take a subset of features that are only categorical features."
   ]
  },
  {
   "cell_type": "code",
   "execution_count": 15,
   "id": "6b97a6fb",
   "metadata": {},
   "outputs": [],
   "source": [
    "import pandas as pd\n",
    "from sklearn.model_selection import train_test_split\n",
    "\n",
    "ames_housing = pd.read_csv(\"../datasets/house_prices.csv\", na_values='?')\n",
    "ames_housing = ames_housing.drop(columns=\"Id\")\n",
    "\n",
    "categorical_columns = [\"Street\", \"Foundation\", \"CentralAir\", \"PavedDrive\"]\n",
    "target_name = \"SalePrice\"\n",
    "X, y = ames_housing[categorical_columns], ames_housing[target_name]\n",
    "\n",
    "X_train, X_test, y_train, y_test = train_test_split(\n",
    "    X, y, test_size=0.2, random_state=0\n",
    ")"
   ]
  },
  {
   "cell_type": "markdown",
   "id": "dced54b1",
   "metadata": {},
   "source": [
    "We previously presented that a OneHotEncoder creates as many columns as categories. Therefore, there is always one column (i.e. one encoded category) that can be inferred from the others. Thus, OneHotEncoder creates collinear features."
   ]
  },
  {
   "cell_type": "markdown",
   "id": "8c563ece",
   "metadata": {},
   "source": [
    "We illustrate this behaviour by considering the “CentralAir” feature that contains only two categories:"
   ]
  },
  {
   "cell_type": "code",
   "execution_count": 16,
   "id": "6ae1d799",
   "metadata": {},
   "outputs": [
    {
     "data": {
      "text/plain": [
       "618     Y\n",
       "870     N\n",
       "92      Y\n",
       "817     Y\n",
       "302     Y\n",
       "       ..\n",
       "763     Y\n",
       "835     Y\n",
       "1216    Y\n",
       "559     Y\n",
       "684     Y\n",
       "Name: CentralAir, Length: 1168, dtype: object"
      ]
     },
     "execution_count": 16,
     "metadata": {},
     "output_type": "execute_result"
    }
   ],
   "source": [
    "X_train[\"CentralAir\"]"
   ]
  },
  {
   "cell_type": "code",
   "execution_count": 17,
   "id": "51d0698a",
   "metadata": {},
   "outputs": [
    {
     "data": {
      "text/html": [
       "<div>\n",
       "<style scoped>\n",
       "    .dataframe tbody tr th:only-of-type {\n",
       "        vertical-align: middle;\n",
       "    }\n",
       "\n",
       "    .dataframe tbody tr th {\n",
       "        vertical-align: top;\n",
       "    }\n",
       "\n",
       "    .dataframe thead th {\n",
       "        text-align: right;\n",
       "    }\n",
       "</style>\n",
       "<table border=\"1\" class=\"dataframe\">\n",
       "  <thead>\n",
       "    <tr style=\"text-align: right;\">\n",
       "      <th></th>\n",
       "      <th>CentralAir_N</th>\n",
       "      <th>CentralAir_Y</th>\n",
       "    </tr>\n",
       "  </thead>\n",
       "  <tbody>\n",
       "    <tr>\n",
       "      <th>0</th>\n",
       "      <td>0</td>\n",
       "      <td>1</td>\n",
       "    </tr>\n",
       "    <tr>\n",
       "      <th>1</th>\n",
       "      <td>1</td>\n",
       "      <td>0</td>\n",
       "    </tr>\n",
       "    <tr>\n",
       "      <th>2</th>\n",
       "      <td>0</td>\n",
       "      <td>1</td>\n",
       "    </tr>\n",
       "    <tr>\n",
       "      <th>3</th>\n",
       "      <td>0</td>\n",
       "      <td>1</td>\n",
       "    </tr>\n",
       "    <tr>\n",
       "      <th>4</th>\n",
       "      <td>0</td>\n",
       "      <td>1</td>\n",
       "    </tr>\n",
       "    <tr>\n",
       "      <th>...</th>\n",
       "      <td>...</td>\n",
       "      <td>...</td>\n",
       "    </tr>\n",
       "    <tr>\n",
       "      <th>1163</th>\n",
       "      <td>0</td>\n",
       "      <td>1</td>\n",
       "    </tr>\n",
       "    <tr>\n",
       "      <th>1164</th>\n",
       "      <td>0</td>\n",
       "      <td>1</td>\n",
       "    </tr>\n",
       "    <tr>\n",
       "      <th>1165</th>\n",
       "      <td>0</td>\n",
       "      <td>1</td>\n",
       "    </tr>\n",
       "    <tr>\n",
       "      <th>1166</th>\n",
       "      <td>0</td>\n",
       "      <td>1</td>\n",
       "    </tr>\n",
       "    <tr>\n",
       "      <th>1167</th>\n",
       "      <td>0</td>\n",
       "      <td>1</td>\n",
       "    </tr>\n",
       "  </tbody>\n",
       "</table>\n",
       "<p>1168 rows × 2 columns</p>\n",
       "</div>"
      ],
      "text/plain": [
       "      CentralAir_N  CentralAir_Y\n",
       "0                0             1\n",
       "1                1             0\n",
       "2                0             1\n",
       "3                0             1\n",
       "4                0             1\n",
       "...            ...           ...\n",
       "1163             0             1\n",
       "1164             0             1\n",
       "1165             0             1\n",
       "1166             0             1\n",
       "1167             0             1\n",
       "\n",
       "[1168 rows x 2 columns]"
      ]
     },
     "execution_count": 17,
     "metadata": {},
     "output_type": "execute_result"
    }
   ],
   "source": [
    "from sklearn.preprocessing import OneHotEncoder\n",
    "\n",
    "single_feature = [\"CentralAir\"]\n",
    "encoder = OneHotEncoder(sparse=False, dtype=np.int32)\n",
    "X_trans = encoder.fit_transform(X_train[single_feature])\n",
    "X_trans = pd.DataFrame(\n",
    "    X_trans,\n",
    "    columns=encoder.get_feature_names_out(input_features=single_feature),\n",
    ")\n",
    "X_trans"
   ]
  },
  {
   "cell_type": "markdown",
   "id": "3609e51e",
   "metadata": {},
   "source": [
    "Here, we see that the encoded category “CentralAir_N” is the opposite of the encoded category “CentralAir_Y”. Therefore, we observe that using a OneHotEncoder creates two features having the problematic pattern observed earlier in this exercise. Training a linear regression model on such a of one-hot encoded binary feature can therefore lead to numerical problems, especially without regularization. Furthermore, the two one-hot features are redundant as they encode exactly the same information in opposite ways.\n",
    "\n",
    "Using regularization helps to overcome the numerical issues that we highlighted earlier in this exercise.\n",
    "\n",
    "Another strategy is to arbitrarily drop one of the encoded categories. Scikit-learn provides such an option by setting the parameter drop in the OneHotEncoder. This parameter can be set to first to always drop the first encoded category or binary_only to only drop a column in the case of binary categories."
   ]
  },
  {
   "cell_type": "code",
   "execution_count": 18,
   "id": "0c5d1815",
   "metadata": {},
   "outputs": [
    {
     "data": {
      "text/html": [
       "<div>\n",
       "<style scoped>\n",
       "    .dataframe tbody tr th:only-of-type {\n",
       "        vertical-align: middle;\n",
       "    }\n",
       "\n",
       "    .dataframe tbody tr th {\n",
       "        vertical-align: top;\n",
       "    }\n",
       "\n",
       "    .dataframe thead th {\n",
       "        text-align: right;\n",
       "    }\n",
       "</style>\n",
       "<table border=\"1\" class=\"dataframe\">\n",
       "  <thead>\n",
       "    <tr style=\"text-align: right;\">\n",
       "      <th></th>\n",
       "      <th>CentralAir_Y</th>\n",
       "    </tr>\n",
       "  </thead>\n",
       "  <tbody>\n",
       "    <tr>\n",
       "      <th>0</th>\n",
       "      <td>1</td>\n",
       "    </tr>\n",
       "    <tr>\n",
       "      <th>1</th>\n",
       "      <td>0</td>\n",
       "    </tr>\n",
       "    <tr>\n",
       "      <th>2</th>\n",
       "      <td>1</td>\n",
       "    </tr>\n",
       "    <tr>\n",
       "      <th>3</th>\n",
       "      <td>1</td>\n",
       "    </tr>\n",
       "    <tr>\n",
       "      <th>4</th>\n",
       "      <td>1</td>\n",
       "    </tr>\n",
       "    <tr>\n",
       "      <th>...</th>\n",
       "      <td>...</td>\n",
       "    </tr>\n",
       "    <tr>\n",
       "      <th>1163</th>\n",
       "      <td>1</td>\n",
       "    </tr>\n",
       "    <tr>\n",
       "      <th>1164</th>\n",
       "      <td>1</td>\n",
       "    </tr>\n",
       "    <tr>\n",
       "      <th>1165</th>\n",
       "      <td>1</td>\n",
       "    </tr>\n",
       "    <tr>\n",
       "      <th>1166</th>\n",
       "      <td>1</td>\n",
       "    </tr>\n",
       "    <tr>\n",
       "      <th>1167</th>\n",
       "      <td>1</td>\n",
       "    </tr>\n",
       "  </tbody>\n",
       "</table>\n",
       "<p>1168 rows × 1 columns</p>\n",
       "</div>"
      ],
      "text/plain": [
       "      CentralAir_Y\n",
       "0                1\n",
       "1                0\n",
       "2                1\n",
       "3                1\n",
       "4                1\n",
       "...            ...\n",
       "1163             1\n",
       "1164             1\n",
       "1165             1\n",
       "1166             1\n",
       "1167             1\n",
       "\n",
       "[1168 rows x 1 columns]"
      ]
     },
     "execution_count": 18,
     "metadata": {},
     "output_type": "execute_result"
    }
   ],
   "source": [
    "encoder = OneHotEncoder(drop=\"first\", sparse=False, dtype=np.int32)\n",
    "X_trans = encoder.fit_transform(X_train[single_feature])\n",
    "X_trans = pd.DataFrame(\n",
    "    X_trans,\n",
    "    columns=encoder.get_feature_names_out(input_features=single_feature),\n",
    ")\n",
    "X_trans"
   ]
  },
  {
   "cell_type": "markdown",
   "id": "6292eae8",
   "metadata": {},
   "source": [
    "We see that only the second column of the previous encoded data is kept. Dropping one of the one-hot encoded column is a common practice, especially for binary categorical features. Note however that this breaks symmetry between categories and impacts the number of coefficients of the model, their values, and thus their meaning, especially when applying strong regularization.\n",
    "\n",
    "Let’s finally illustrate how to use this option is a machine-learning pipeline:"
   ]
  },
  {
   "cell_type": "code",
   "execution_count": 19,
   "id": "3f728b10",
   "metadata": {},
   "outputs": [
    {
     "name": "stdout",
     "output_type": "stream",
     "text": [
      "R2 score on the testing set: 0.24\n",
      "Our model contains 9 features while 13 categories are originally available.\n"
     ]
    }
   ],
   "source": [
    "from sklearn.pipeline import make_pipeline\n",
    "\n",
    "model = make_pipeline(OneHotEncoder(drop=\"first\", dtype=np.int32), Ridge())\n",
    "model.fit(X_train, y_train)\n",
    "n_categories = [X_train[col].nunique() for col in X_train.columns]\n",
    "print(\n",
    "    f\"R2 score on the testing set: {model.score(X_test, y_test):.2f}\"\n",
    ")\n",
    "print(\n",
    "    f\"Our model contains {model[-1].coef_.size} features while \"\n",
    "    f\"{sum(n_categories)} categories are originally available.\"\n",
    ")"
   ]
  },
  {
   "cell_type": "code",
   "execution_count": null,
   "id": "2e8de353",
   "metadata": {},
   "outputs": [],
   "source": []
  }
 ],
 "metadata": {
  "jupytext": {
   "main_language": "python"
  },
  "kernelspec": {
   "display_name": "Python 3 (ipykernel)",
   "language": "python",
   "name": "python3"
  },
  "language_info": {
   "codemirror_mode": {
    "name": "ipython",
    "version": 3
   },
   "file_extension": ".py",
   "mimetype": "text/x-python",
   "name": "python",
   "nbconvert_exporter": "python",
   "pygments_lexer": "ipython3",
   "version": "3.9.10"
  },
  "nbreset": "https://github.com/INRIA/scikit-learn-mooc/raw/main/notebooks/linear_models_ex_04.ipynb"
 },
 "nbformat": 4,
 "nbformat_minor": 5
}
